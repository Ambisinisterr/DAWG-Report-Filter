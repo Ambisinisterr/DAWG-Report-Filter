{
 "cells": [
  {
   "cell_type": "markdown",
   "id": "3754b9c8",
   "metadata": {},
   "source": [
    "\n",
    "PM Report Filter\n",
    "---\n",
    "The goal of this document is to assist building a stand alone python file that can filter an excel report [*my current employer*] provides.\n",
    "    \n",
    "Currently I manually filter this report twice a week and transfer the information to a Google Sheet where the information is used to flag equipment currently in use are due for PM (Preventive Maint.)\n",
    "    \n",
    "### Goals \n",
    "---\n",
    "\n",
    "- Set up functions to streamline cleaning process - Completed\n",
    "-Output an excel file with a PM List for trailers over 93% Due - Completed\n",
    "-Output an excel file with a PM List just for PC117 Trailers - Completed\n",
    "-Output both files into one excel file with multiple sheets - Completed\n",
    "-Create a standalone executable python file\n",
    "\n",
    "### Stretch Goal:\n",
    "---\n",
    "Implement a way to output directly to Google Sheets"
   ]
  },
  {
   "cell_type": "code",
   "execution_count": 1,
   "id": "8e084f62",
   "metadata": {},
   "outputs": [],
   "source": [
    "import pandas as pd"
   ]
  },
  {
   "cell_type": "code",
   "execution_count": 2,
   "id": "ab8e1eeb",
   "metadata": {},
   "outputs": [],
   "source": [
    "dawg = pd.read_excel(\"./PM.xlsx\")"
   ]
  },
  {
   "cell_type": "code",
   "execution_count": 3,
   "id": "6d734e24",
   "metadata": {},
   "outputs": [],
   "source": [
    "#Functions\n",
    "def sort_trls(df):\n",
    "    \"\"\"Takes the PM List and sorts trailers and Due PM Percentages\n",
    "       Output: Rollerbed, PM Highest to Lowest\n",
    "               Trailer, PM Highest to Lowest\"\"\"\n",
    "    rb = df[df[\"Unit Type\"] == \"ROLLERBED\"].sort_values(by=\"Due Percent\", ascending=False)\n",
    "    trl = df[df[\"Unit Type\"] == \"TRAILER\"].sort_values(by=\"Due Percent\", ascending=False)\n",
    "    df = pd.concat([rb, trl], ignore_index = True)\n",
    "    return df\n",
    "\n",
    "def clean_dawg(df):\n",
    "    \"\"\"Cleans the DAWG Report.\n",
    "       -Fills NA Values, Sets CC to Int, Removes PM's < 94%, Removes CUST Trailers\"\"\"\n",
    "    df[\"Last Touched Cost Center\"] = df[\"Last Touched Cost Center\"].fillna(0)\n",
    "    df[\"Last Touched Cost Center\"] = df[\"Last Touched Cost Center\"].astype('int64')\n",
    "    df = df[df[\"Due Percent\"]>93]\n",
    "    df = df[df[\"Unit Type\"] != \"CUST TRLR\"]\n",
    "    df = sort_trls(df)\n",
    "    return df\n",
    "\n",
    "def pc117_pm(df):\n",
    "    \"\"\"Filters the DAWG Report to only return the trailers for PC117\n",
    "       -RB's for PC117 & PC854, All PC117 Trailers, and PC117 Last Touch Trailers\"\"\"\n",
    "    rb = df[(df[\"Cost Center\"].isin([117,854])) & (df[\"Unit Type\"] == \"ROLLERBED\")]\n",
    "    cc = df[(df[\"Cost Center\"]==117) & (df[\"Unit Type\"] != \"ROLLERBED\")]\n",
    "    lt = df[(df[\"Last Touched Cost Center\"]==117) & (df[\"Cost Center\"]!=117)]\n",
    "    df = pd.concat([rb, cc, lt], ignore_index = True)\n",
    "    return df"
   ]
  },
  {
   "cell_type": "code",
   "execution_count": 4,
   "id": "85a9a709",
   "metadata": {},
   "outputs": [],
   "source": [
    "#Clean the DAWG Report, set up the two sheets\n",
    "dawg = clean_dawg(dawg)\n",
    "pms = pc117_pm(dawg)\n",
    "\n",
    "#Write to the Excel Sheets\n",
    "writer = pd.ExcelWriter(\"./PMTest.xlsx\", engine=\"xlsxwriter\")\n",
    "pms.to_excel(writer, sheet_name = \"PC117\", index=False)\n",
    "dawg.to_excel(writer, sheet_name = \"PMList\", index=False)\n",
    "writer.save()"
   ]
  }
 ],
 "metadata": {
  "kernelspec": {
   "display_name": "Python 3",
   "language": "python",
   "name": "python3"
  },
  "language_info": {
   "codemirror_mode": {
    "name": "ipython",
    "version": 3
   },
   "file_extension": ".py",
   "mimetype": "text/x-python",
   "name": "python",
   "nbconvert_exporter": "python",
   "pygments_lexer": "ipython3",
   "version": "3.8.8"
  }
 },
 "nbformat": 4,
 "nbformat_minor": 5
}
